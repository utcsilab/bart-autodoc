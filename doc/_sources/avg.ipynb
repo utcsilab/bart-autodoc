{
 "cells": [
  {
   "cell_type": "markdown",
   "id": "0fc58f07",
   "metadata": {},
   "source": [
    "# `bart avg`\n",
    "\n",
    "===========================================================================================================\n",
    "\n",
    "The `bart avg` command is used to **average along a specific dimension of multi-dimensional arrays** using a **bitmask**.  \n",
    "\n",
    "Where we can view the full usage string and optional arguments with the `-h` flag."
   ]
  },
  {
   "cell_type": "markdown",
   "id": "5b51fbc2",
   "metadata": {},
   "source": [
    "## How `bart avg` Works\n",
    "\n",
    "The averaging process computes the mean value along the specified dimension(s). If you want to average over a given dimension, the formula is:\n",
    "\n",
    "$${Average} = \\frac{1}{N} {\\sum_{i=1}^{N} x_i} $$\n",
    "\n",
    "**where:**\n",
    "\n",
    "- $N$ is the number of elements along the dimension to be averaged.\n",
    "- $x_i$ represents the individual data points in the dimension being averaged."
   ]
  },
  {
   "cell_type": "code",
   "execution_count": null,
   "id": "6af8d668",
   "metadata": {},
   "outputs": [],
   "source": [
    "!bart avg -h"
   ]
  },
  {
   "cell_type": "markdown",
   "id": "5d8d510e",
   "metadata": {},
   "source": [
    "**Where:**\n",
    "\n",
    "`-w`: This option enables weighted averaging.\n",
    "\n",
    "`bitmask`: A bitmask to specify the dimensions along which to perform the averaging.\n",
    "\n",
    "`<input>`: The input .cfl file.\n",
    "\n",
    "`<output>`: The output .cfl file containing the averaged data."
   ]
  },
  {
   "cell_type": "markdown",
   "id": "911d5224",
   "metadata": {},
   "source": [
    "## Example for Matrix (using Bash)"
   ]
  },
  {
   "cell_type": "markdown",
   "id": "fa5a2b43",
   "metadata": {},
   "source": [
    "### Create a Matrix, Dimension as 2 x 2 x 2"
   ]
  },
  {
   "cell_type": "code",
   "execution_count": null,
   "id": "f696fb8d",
   "metadata": {},
   "outputs": [],
   "source": [
    "!bart vec $(seq 1 8) array # Generate a array with values from 1 to 8 "
   ]
  },
  {
   "cell_type": "code",
   "execution_count": null,
   "id": "67f3fa43",
   "metadata": {},
   "outputs": [],
   "source": [
    "!bart show array"
   ]
  },
  {
   "cell_type": "code",
   "execution_count": null,
   "id": "5bfc0eca",
   "metadata": {},
   "outputs": [],
   "source": [
    "!bart reshape $(bart bitmask 0 1 2) 2 2 2 array matrix_array # Reshape the array to Dimension as 2 x 2 x 2"
   ]
  },
  {
   "cell_type": "code",
   "execution_count": null,
   "id": "a0d0636d",
   "metadata": {},
   "outputs": [],
   "source": [
    "!bart show matrix_array"
   ]
  },
  {
   "cell_type": "code",
   "execution_count": null,
   "id": "b3fa8ced",
   "metadata": {},
   "outputs": [],
   "source": [
    "!bart show -m matrix_array"
   ]
  },
  {
   "cell_type": "markdown",
   "id": "16fa5dd9",
   "metadata": {},
   "source": [
    "### Example 1.1\n",
    "\n",
    "### Calculated the Average Along a Dimension \"0\" of the matrix_array"
   ]
  },
  {
   "cell_type": "code",
   "execution_count": null,
   "id": "c49d4539",
   "metadata": {},
   "outputs": [],
   "source": [
    "!bart avg $(bart bitmask 0) matrix_array matrix1_array"
   ]
  },
  {
   "cell_type": "code",
   "execution_count": null,
   "id": "f54ec42e",
   "metadata": {},
   "outputs": [],
   "source": [
    "!bart show matrix1_array"
   ]
  },
  {
   "cell_type": "markdown",
   "id": "8f8a9616",
   "metadata": {},
   "source": [
    "**We can see the dimension for our new matrix (matrix1_array) become 1 x 2 x 2**"
   ]
  },
  {
   "cell_type": "code",
   "execution_count": null,
   "id": "7ba9c162",
   "metadata": {},
   "outputs": [],
   "source": [
    "!bart show -m matrix1_array"
   ]
  },
  {
   "cell_type": "markdown",
   "id": "bc39e370",
   "metadata": {},
   "source": [
    "### Example 1.2\n",
    "\n",
    "### Continue to Calculate avg for matrix1_arry along Demension \"2\""
   ]
  },
  {
   "cell_type": "code",
   "execution_count": null,
   "id": "3b193526",
   "metadata": {},
   "outputs": [],
   "source": [
    "!bart avg $(bart bitmask 2) matrix1_array matrix2_array"
   ]
  },
  {
   "cell_type": "code",
   "execution_count": null,
   "id": "605c1003",
   "metadata": {},
   "outputs": [],
   "source": [
    "!bart show matrix2_array"
   ]
  },
  {
   "cell_type": "code",
   "execution_count": null,
   "id": "06f25a95",
   "metadata": {},
   "outputs": [],
   "source": [
    "!bart show -m matrix2_array"
   ]
  },
  {
   "cell_type": "markdown",
   "id": "7518acbe",
   "metadata": {},
   "source": [
    "### Example 1.3\n",
    "\n",
    "### Calculate the avg Across all Dimensions of a Matrix using BART"
   ]
  },
  {
   "cell_type": "code",
   "execution_count": null,
   "id": "2ae952aa",
   "metadata": {},
   "outputs": [],
   "source": [
    "!bart avg $(bart bitmask 0 1 2) matrix_array matrix3_array"
   ]
  },
  {
   "cell_type": "code",
   "execution_count": null,
   "id": "cfa72779",
   "metadata": {},
   "outputs": [],
   "source": [
    "!bart show matrix3_array"
   ]
  },
  {
   "cell_type": "code",
   "execution_count": null,
   "id": "89002a1f",
   "metadata": {},
   "outputs": [],
   "source": [
    "!bart show -m matrix3_array"
   ]
  },
  {
   "cell_type": "markdown",
   "id": "f5103d7d",
   "metadata": {},
   "source": [
    "## Example Workflow for Images (in Python Kernel)\n",
    "\n",
    "The `bart avg` command in BART is often used to calculate the **Average** data across one or more specified dimensions. It is typically employed in cases where multi-dimensional data, such as MRI data, needs to be averaged along specific axes, such as repetitions, coils, or slices."
   ]
  },
  {
   "cell_type": "markdown",
   "id": "eb0c84ac",
   "metadata": {},
   "source": [
    "### Example in Coils"
   ]
  },
  {
   "cell_type": "code",
   "execution_count": null,
   "id": "603ff2a6",
   "metadata": {},
   "outputs": [],
   "source": [
    "# Importing the required libraries\n",
    "import numpy as np\n",
    "import matplotlib.pyplot as plt\n",
    "%matplotlib inline\n",
    "\n",
    "import cfl\n",
    "from bart import bart"
   ]
  },
  {
   "cell_type": "markdown",
   "id": "fc1d443b",
   "metadata": {},
   "source": [
    "### 1. Generate a multi-coil image using the `phantom` simulation tool in BART:"
   ]
  },
  {
   "cell_type": "markdown",
   "id": "d8d1fc9a",
   "metadata": {},
   "source": [
    "Generate a multi-coil image with size 128x128 and 8 coils.  \n",
    "Note the convention is that the coil dimension is dimension 3"
   ]
  },
  {
   "cell_type": "code",
   "execution_count": null,
   "id": "956fc32b",
   "metadata": {},
   "outputs": [],
   "source": [
    "# Generate a multi-coil image with size 128x128 and 8 coils\n",
    "multi_coil_image = bart(1, 'phantom -x 128 -s 8')\n",
    "print(multi_coil_image.shape)"
   ]
  },
  {
   "cell_type": "code",
   "execution_count": null,
   "id": "5742a7bb",
   "metadata": {},
   "outputs": [],
   "source": [
    "# Visualizing the multi-coil images using Matplotlib \n",
    "plt.figure(figsize=(16,20))\n",
    "for i in range(8):\n",
    "    plt.subplot(1, 8, i+1)\n",
    "    plt.imshow(abs(multi_coil_image[...,i]), cmap='gray')\n",
    "    plt.title('Coil image {}'.format(i))"
   ]
  },
  {
   "cell_type": "markdown",
   "id": "3aae15ed",
   "metadata": {},
   "source": [
    "### 2. Combine the Coil Images Using `avg` :"
   ]
  },
  {
   "cell_type": "markdown",
   "id": "ee5a9263",
   "metadata": {},
   "source": [
    "**The number of coils is located in dimension 3, and the corresponding `bitmask`  for dimension 3 is calculated to be 8**"
   ]
  },
  {
   "cell_type": "code",
   "execution_count": null,
   "id": "7322863f",
   "metadata": {},
   "outputs": [],
   "source": [
    "!bart bitmask 3"
   ]
  },
  {
   "cell_type": "code",
   "execution_count": null,
   "id": "1c35ac61",
   "metadata": {},
   "outputs": [],
   "source": [
    "avg_image = bart(1, 'avg 8', multi_coil_image) # Calculates the avg across coil dimension and named as avg_image"
   ]
  },
  {
   "cell_type": "code",
   "execution_count": null,
   "id": "d4e894c6",
   "metadata": {},
   "outputs": [],
   "source": [
    "# Visualizing the avg_image using Matplotlib\n",
    "plt.figure(figsize=(4,6))\n",
    "plt.imshow(abs(avg_image), cmap='gray')\n",
    "plt.title('avg_image')"
   ]
  },
  {
   "cell_type": "code",
   "execution_count": null,
   "id": "9e81d597",
   "metadata": {},
   "outputs": [],
   "source": []
  }
 ],
 "metadata": {
  "kernelspec": {
   "display_name": "Python 3 (ipykernel)",
   "language": "python",
   "name": "python3"
  }
 },
 "nbformat": 4,
 "nbformat_minor": 5
}
