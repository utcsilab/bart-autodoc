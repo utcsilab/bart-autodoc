{
 "cells": [
  {
   "cell_type": "markdown",
   "id": "53922f40",
   "metadata": {},
   "source": [
    "# BART CALDIR\n",
    "\n",
    "============================================================================================================\n",
    "\n",
    "The `bart caldir` command in **BART** is used to estimate coil sensitivities from the k-space center of MRI data, which is generally a fully sampled area of the MRI data. This method is based on the approach by McKenzie et al. [1], which uses a direct estimation technique to determine coil sensitivity profiles. The calibration region’s size is automatically determined but limited by the {cal_size} parameter specified by the user.\n",
    "\n",
    "[1] McKenzie CA, Yeh EN, Ohliger MA, Price MD, Sodickson DK.  Self-calibrating parallel imaging with automatic coil sensitivity extraction.  Magn Reson Med 2002; 47:529-538.\n",
    "\n",
    "Where we can view the full usage string and optional arguments with the `-h` flag."
   ]
  },
  {
   "cell_type": "code",
   "execution_count": null,
   "id": "e47c13b9",
   "metadata": {},
   "outputs": [],
   "source": [
    "!bart caldir -h"
   ]
  },
  {
   "cell_type": "markdown",
   "id": "798f8e9e",
   "metadata": {},
   "source": [
    "## Parameters\n",
    "\n",
    "- `cal_size`: Specifies the maximum size of the fully-sampled calibration region, typically in the readout direction.\n",
    "  \n",
    "- `<input>`: The input file, which is usually a k-space data file.\n",
    "\n",
    "- `<output>`: The output file where the estimated coil sensitivities will be stored.\n",
    "\n",
    "- `-h`: Displays help information."
   ]
  },
  {
   "cell_type": "markdown",
   "id": "63c10144",
   "metadata": {},
   "source": [
    "## Example 1: Estimates Coil Sensitivities Small cal_size  (Using Python)"
   ]
  },
  {
   "cell_type": "code",
   "execution_count": null,
   "id": "895d2afb",
   "metadata": {},
   "outputs": [],
   "source": [
    "# Importing the required libraries\n",
    "import numpy as np\n",
    "import matplotlib.pyplot as plt\n",
    "%matplotlib inline\n",
    "\n",
    "import cfl\n",
    "from bart import bart"
   ]
  },
  {
   "cell_type": "markdown",
   "id": "582126a9",
   "metadata": {},
   "source": [
    "### Generate a multi-coil image in k-space using the `phantom` simulation tool "
   ]
  },
  {
   "cell_type": "code",
   "execution_count": null,
   "id": "fe96b805",
   "metadata": {},
   "outputs": [],
   "source": [
    "multi_coil_kspace = bart(1, 'phantom -x 128 -k -s 8')"
   ]
  },
  {
   "cell_type": "code",
   "execution_count": null,
   "id": "76c11f91",
   "metadata": {},
   "outputs": [],
   "source": [
    "# Visualizing the multi-coil kspace data using Matplotlib \n",
    "plt.figure(figsize=(16,20))\n",
    "for i in range(8):\n",
    "    plt.subplot(1, 8, i+1)\n",
    "    plt.imshow(abs(multi_coil_kspace[...,i])**.3, cmap='gray')\n",
    "    plt.title('Kspace channel {}'.format(i))"
   ]
  },
  {
   "cell_type": "markdown",
   "id": "08769bc4",
   "metadata": {},
   "source": [
    "### Estimated the coil sensitivity by using `caldir` with `cal_size = 6`"
   ]
  },
  {
   "cell_type": "code",
   "execution_count": null,
   "id": "071d36c9",
   "metadata": {},
   "outputs": [],
   "source": [
    "coil_sen = bart(1, 'caldir 6', multi_coil_kspace)"
   ]
  },
  {
   "cell_type": "code",
   "execution_count": null,
   "id": "2c9959e0",
   "metadata": {},
   "outputs": [],
   "source": [
    "# Visualizing the images using Matplotlib \n",
    "plt.figure(figsize=(16,20))\n",
    "for i in range(8):\n",
    "    plt.subplot(1, 8, i+1)\n",
    "    plt.imshow(abs(coil_sen[...,i]), cmap='gray')\n",
    "    plt.title('Coil sensitivity {}'.format(i))"
   ]
  },
  {
   "cell_type": "markdown",
   "id": "00b2a708",
   "metadata": {},
   "source": [
    "## Example 2: Estimates Coil Sensitivities with Large cal_size  (Using Python)"
   ]
  },
  {
   "cell_type": "markdown",
   "id": "b85f9741",
   "metadata": {},
   "source": [
    "### Estimated the coil sensitivity by using `caldir` with \"cal_size = 24\""
   ]
  },
  {
   "cell_type": "code",
   "execution_count": null,
   "id": "d534a5e5",
   "metadata": {},
   "outputs": [],
   "source": [
    "coil_sen_1 = bart(1, 'caldir 24', multi_coil_kspace)"
   ]
  },
  {
   "cell_type": "code",
   "execution_count": null,
   "id": "11b39353",
   "metadata": {},
   "outputs": [],
   "source": [
    "# Visualizing the images using Matplotlib \n",
    "plt.figure(figsize=(16,20))\n",
    "for i in range(8):\n",
    "    plt.subplot(1, 8, i+1)\n",
    "    plt.imshow(abs(coil_sen_1[...,i]), cmap='gray')\n",
    "    plt.title('Coil sensitivity {}'.format(i))"
   ]
  }
 ],
 "metadata": {
  "kernelspec": {
   "display_name": "Python 3 (ipykernel)",
   "language": "python",
   "name": "python3"
  }
 },
 "nbformat": 4,
 "nbformat_minor": 5
}
