{
 "cells": [
  {
   "cell_type": "markdown",
   "id": "18af5913",
   "metadata": {},
   "source": [
    "# BART SHOW\n",
    "\n",
    "==================================================================================================================\n",
    "\n",
    "The `bart ones` command is used in BART to display information about a .cfl file. It gives a quick way to inspect the dimensions of the data stored in the file.\n",
    "\n",
    "We can use `-h` for every BART command."
   ]
  },
  {
   "cell_type": "code",
   "execution_count": null,
   "id": "e635a8f3",
   "metadata": {},
   "outputs": [],
   "source": [
    "!bart show -h"
   ]
  },
  {
   "cell_type": "markdown",
   "id": "7b717493",
   "metadata": {},
   "source": [
    "## Example for Array (Using Bash)"
   ]
  },
  {
   "cell_type": "markdown",
   "id": "a7b457d9",
   "metadata": {},
   "source": [
    "## Example 1"
   ]
  },
  {
   "cell_type": "code",
   "execution_count": null,
   "id": "e39e75ac",
   "metadata": {},
   "outputs": [],
   "source": [
    "!bart ones 2 2 3 output_1"
   ]
  },
  {
   "cell_type": "markdown",
   "id": "8cacba3c",
   "metadata": {},
   "source": [
    "**This will create:**\n",
    "\n",
    "A 2D array with dimensions 2 x 3 filled with ones.\n",
    "\n",
    "The output files will be output.cfl and output.hdr."
   ]
  },
  {
   "cell_type": "code",
   "execution_count": null,
   "id": "0b2914eb",
   "metadata": {},
   "outputs": [],
   "source": [
    "!bart show output_1 "
   ]
  },
  {
   "cell_type": "markdown",
   "id": "ee7f3de5",
   "metadata": {},
   "source": [
    " **This will Display mata data about a .cfl file** (without the .cfl extension)"
   ]
  },
  {
   "cell_type": "code",
   "execution_count": null,
   "id": "9d21e350",
   "metadata": {},
   "outputs": [],
   "source": [
    "!bart show -m output_1 "
   ]
  },
  {
   "cell_type": "markdown",
   "id": "297dd938",
   "metadata": {},
   "source": [
    "Which is similar when we use `cat` command"
   ]
  },
  {
   "cell_type": "code",
   "execution_count": null,
   "id": "4362f89b",
   "metadata": {},
   "outputs": [],
   "source": [
    "!cat output_1.hdr"
   ]
  },
  {
   "cell_type": "markdown",
   "id": "63e15f67",
   "metadata": {},
   "source": [
    "**This will provide detailed metadata including the active dimensions**"
   ]
  },
  {
   "cell_type": "code",
   "execution_count": null,
   "id": "ebfb64bf",
   "metadata": {},
   "outputs": [],
   "source": [
    "!bart show -d 1 output_1"
   ]
  },
  {
   "cell_type": "markdown",
   "id": "c6250147",
   "metadata": {},
   "source": [
    "`-d 1`: This specifies that you want detailed information about dimension 1.\n",
    "\n",
    "If you want to inspect another dimension, just change the number after `-d`. For example:\n",
    "\n",
    "`-d 0`: Would show details for dimension 0.\n",
    "\n",
    "`-d 2`: Would show details for dimension 2.\n",
    "\n",
    "The `-d` flag works only with a **specific dimension index**"
   ]
  },
  {
   "cell_type": "code",
   "execution_count": null,
   "id": "d5d1b1b6",
   "metadata": {},
   "outputs": [],
   "source": [
    "!bart show -N output_1 # Print the index imformation"
   ]
  },
  {
   "cell_type": "markdown",
   "id": "45e0a6df",
   "metadata": {},
   "source": [
    "## Example 2 for -s sep as the separator\n",
    "\n",
    "### Example 2.1\n",
    "\n",
    "Display the Data with **Comma** Separator:\n",
    "\n",
    "Now, to print the values of output_1 with a comma separating the values, use the bart show command with the `-s` flag:"
   ]
  },
  {
   "cell_type": "code",
   "execution_count": null,
   "id": "b8b09436",
   "metadata": {},
   "outputs": [],
   "source": [
    "!bart show -s \",\" output_1"
   ]
  },
  {
   "cell_type": "markdown",
   "id": "e50c75b9",
   "metadata": {},
   "source": [
    "### Example 2.2\n",
    "\n",
    "Display the Data with **Semicolon** Separator:\n",
    "\n",
    "If you want to use a semicolon amd space as the separator, modify the -s flag:"
   ]
  },
  {
   "cell_type": "code",
   "execution_count": null,
   "id": "fb6a720c",
   "metadata": {},
   "outputs": [],
   "source": [
    "!bart show -s \";     \" output_1"
   ]
  },
  {
   "cell_type": "markdown",
   "id": "f4ab10d0",
   "metadata": {},
   "source": [
    "### Example 2.3:  Combining Format with Separator:\n",
    "\n",
    "You can also **combine** the `-f` flag with the `-s` flag to control both the format and the separator.\n",
    "\n",
    "To display Complex number format with three decimal places for both real and imaginary parts and commas as the separator:"
   ]
  },
  {
   "cell_type": "code",
   "execution_count": null,
   "id": "fd038318",
   "metadata": {},
   "outputs": [],
   "source": [
    "!bart show -s \" , \" -f \"%+.3f%+.3fi\" output_1"
   ]
  },
  {
   "cell_type": "markdown",
   "id": "2aa9f20e",
   "metadata": {},
   "source": [
    "## Example for Images (Using Bash)"
   ]
  },
  {
   "cell_type": "markdown",
   "id": "dfc77638",
   "metadata": {},
   "source": [
    "### Generate a multi-coil image using the `phantom` simulation tool in BART:"
   ]
  },
  {
   "cell_type": "code",
   "execution_count": null,
   "id": "6390002d",
   "metadata": {},
   "outputs": [],
   "source": [
    "!bart phantom -x 128 -s 8 multi_coil_image"
   ]
  },
  {
   "cell_type": "markdown",
   "id": "b424cc61",
   "metadata": {},
   "source": [
    " **Display mata data about the multi_coil_image**"
   ]
  },
  {
   "cell_type": "code",
   "execution_count": null,
   "id": "eed24eed",
   "metadata": {},
   "outputs": [],
   "source": [
    "!bart show -m multi_coil_image"
   ]
  },
  {
   "cell_type": "code",
   "execution_count": null,
   "id": "53b6bbb3",
   "metadata": {},
   "outputs": [],
   "source": []
  }
 ],
 "metadata": {
  "kernelspec": {
   "display_name": "Python 3 (ipykernel)",
   "language": "python",
   "name": "python3"
  }
 },
 "nbformat": 4,
 "nbformat_minor": 5
}
