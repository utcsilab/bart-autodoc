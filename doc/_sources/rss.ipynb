{
 "cells": [
  {
   "cell_type": "markdown",
   "id": "d6d04b67",
   "metadata": {},
   "source": [
    "# BART RSS\n",
    "\n",
    "=========================================================================================================================\n",
    "\n",
    "The `bart rss` command is used in BART is used to compute the **Root Sum of Squares (RSS)**: a mathematical technique used to combine multiple values by calculating the square root of the sum of their squared values. It is often used in situations where you need to compute the magnitude of a combined set of values.\n",
    "\n",
    "Where we can view the full usage string and optional arguments with the `-h` flag."
   ]
  },
  {
   "cell_type": "markdown",
   "id": "a3b35a53",
   "metadata": {},
   "source": [
    "## How `bart rss` Works\n",
    "\n",
    "The Root Sum of Squares calculation combines data from different coils using the following formula:\n",
    "\n",
    "$${RSS} = \\sqrt{\\sum_{i \\in D}^{N} |S_i|^2} $$\n",
    "\n",
    "**where:**\n",
    "\n",
    "- $S_i$ represents the i'th element of the signal,\n",
    "- $ N $ is the dimension size\n",
    "- The absolute value (magnitude) of the signal is squared, summed across all elements, and then the square root of the sum is taken.\n",
    "\n",
    "This is equivalent to taking the $\\ell_2$-norm along a specific dimension\n",
    "\n"
   ]
  },
  {
   "cell_type": "code",
   "execution_count": null,
   "id": "c7cdb058",
   "metadata": {},
   "outputs": [],
   "source": [
    "!bart rss -h"
   ]
  },
  {
   "cell_type": "markdown",
   "id": "e0e615fc",
   "metadata": {},
   "source": [
    "**where:**\n",
    "\n",
    "`bitmask`: A bitmask to specify the dimensions along which to perform the Root Sum of Squares.\n",
    "\n",
    "`<input>`: The file containing the input data.\n",
    "\n",
    "`<output>`: The file where the combined RSS result will be saved.\n"
   ]
  },
  {
   "cell_type": "markdown",
   "id": "f6240cab",
   "metadata": {},
   "source": [
    "## Example for Matrix (using Bash)"
   ]
  },
  {
   "cell_type": "markdown",
   "id": "cafe29fc",
   "metadata": {},
   "source": [
    "### Create a Matrix Filled with the Value of 1, Dimension as 2 x 4 x 2"
   ]
  },
  {
   "cell_type": "code",
   "execution_count": null,
   "id": "c714b7b3",
   "metadata": {},
   "outputs": [],
   "source": [
    "!bart ones 3 2 4 2 matrix "
   ]
  },
  {
   "cell_type": "code",
   "execution_count": null,
   "id": "5b95a19a",
   "metadata": {},
   "outputs": [],
   "source": [
    "!bart show matrix # Display the matrix"
   ]
  },
  {
   "cell_type": "markdown",
   "id": "a0fb8b20",
   "metadata": {},
   "source": [
    "### Example 1.1\n",
    "\n",
    "### Calculates the Rss Across a 0th Dimension and Named as matrix_1"
   ]
  },
  {
   "cell_type": "code",
   "execution_count": null,
   "id": "b9e6213e",
   "metadata": {},
   "outputs": [],
   "source": [
    "!bart rss $(bart bitmask 0) matrix matrix_1"
   ]
  },
  {
   "cell_type": "code",
   "execution_count": null,
   "id": "f0f0329b",
   "metadata": {},
   "outputs": [],
   "source": [
    "!bart show matrix_1"
   ]
  },
  {
   "cell_type": "markdown",
   "id": "3222f4df",
   "metadata": {},
   "source": [
    "**We can see the dimension for our new matrix (matrix_1) become 1 x 4 x 2**"
   ]
  },
  {
   "cell_type": "code",
   "execution_count": null,
   "id": "3cd7b285",
   "metadata": {},
   "outputs": [],
   "source": [
    "!bart show -m matrix_1"
   ]
  },
  {
   "cell_type": "markdown",
   "id": "9430b007",
   "metadata": {},
   "source": [
    "### Example 1.2\n",
    "\n",
    "### Continue to Calculate rss for Matrix_1 along Demension 2"
   ]
  },
  {
   "cell_type": "code",
   "execution_count": null,
   "id": "df0fe79e",
   "metadata": {},
   "outputs": [],
   "source": [
    "!bart rss $(bart bitmask 2) matrix_1 matrix_2"
   ]
  },
  {
   "cell_type": "code",
   "execution_count": null,
   "id": "f65f0174",
   "metadata": {},
   "outputs": [],
   "source": [
    "!bart show matrix_2"
   ]
  },
  {
   "cell_type": "code",
   "execution_count": null,
   "id": "06824126",
   "metadata": {},
   "outputs": [],
   "source": [
    "!bart show -m matrix_2"
   ]
  },
  {
   "cell_type": "markdown",
   "id": "42a5216d",
   "metadata": {},
   "source": [
    "### Example 1.3\n",
    "\n",
    "### Calculate the Root Sum of Squares (RSS) Across all Dimensions of a Matrix using BART"
   ]
  },
  {
   "cell_type": "code",
   "execution_count": null,
   "id": "a9c9ba65",
   "metadata": {},
   "outputs": [],
   "source": [
    "!bart rss $(bart bitmask 0 1 2) matrix matrix_3"
   ]
  },
  {
   "cell_type": "code",
   "execution_count": null,
   "id": "5b97644d",
   "metadata": {},
   "outputs": [],
   "source": [
    "!bart show matrix_3"
   ]
  },
  {
   "cell_type": "code",
   "execution_count": null,
   "id": "efe65597",
   "metadata": {},
   "outputs": [],
   "source": [
    "!bart show -m matrix_3"
   ]
  },
  {
   "cell_type": "markdown",
   "id": "12533349",
   "metadata": {},
   "source": [
    "## Example Workflow for Images (in Python)\n",
    "\n",
    "The `bart rss` command in BART is often used to calculate the **Root Sum of Squares (RSS)** across specified dimensions of multi-coil MRI data. This operation is commonly used to combine data from different coils into a single image, enhancing the signal-to-noise ratio (SNR).\n"
   ]
  },
  {
   "cell_type": "code",
   "execution_count": null,
   "id": "32ae43cd",
   "metadata": {},
   "outputs": [],
   "source": [
    "# Importing the required libraries\n",
    "import numpy as np\n",
    "import matplotlib.pyplot as plt\n",
    "%matplotlib inline\n",
    "\n",
    "import cfl\n",
    "from bart import bart"
   ]
  },
  {
   "cell_type": "markdown",
   "id": "2b695558",
   "metadata": {},
   "source": [
    "### 1. Generate a multi-coil image using the `phantom` simulation tool in BART:\n",
    "\n",
    "Generate a multi-coil image with size 128x128 and 8 coils.  \n",
    "Note the convention is that the coil dimension is dimension 3"
   ]
  },
  {
   "cell_type": "code",
   "execution_count": null,
   "id": "47b395ea",
   "metadata": {},
   "outputs": [],
   "source": [
    "multi_coil_image = bart(1, 'phantom -x 128 -s 8')\n",
    "print(multi_coil_image.shape)"
   ]
  },
  {
   "cell_type": "code",
   "execution_count": null,
   "id": "5317206d",
   "metadata": {},
   "outputs": [],
   "source": [
    "# Visualizing the multi-coil images using Matplotlib \n",
    "plt.figure(figsize=(16,20))\n",
    "for i in range(8):\n",
    "    plt.subplot(1, 8, i+1)\n",
    "    plt.imshow(abs(multi_coil_image[...,i]), cmap='gray')\n",
    "    plt.title('Coil image {}'.format(i))"
   ]
  },
  {
   "cell_type": "markdown",
   "id": "3c644d9e",
   "metadata": {},
   "source": [
    "### 2. Combine the Coil Images Using `rss` :"
   ]
  },
  {
   "cell_type": "markdown",
   "id": "6effffaf",
   "metadata": {},
   "source": [
    "**The number of coils is located in dimension 3, and the corresponding `bitmask`  for dimension 3 is calculated to be 8**"
   ]
  },
  {
   "cell_type": "code",
   "execution_count": null,
   "id": "3af1dbeb",
   "metadata": {},
   "outputs": [],
   "source": [
    "!bart bitmask 3"
   ]
  },
  {
   "cell_type": "code",
   "execution_count": null,
   "id": "df0f1d8a",
   "metadata": {},
   "outputs": [],
   "source": [
    "rss_image = bart(1, 'rss 8', multi_coil_image) # Calculates the rss across coil dimension and named as rss_image"
   ]
  },
  {
   "cell_type": "code",
   "execution_count": null,
   "id": "30590cf6",
   "metadata": {},
   "outputs": [],
   "source": [
    "# Visualizing the rss_image using Matplotlib\n",
    "plt.figure(figsize=(4,6))\n",
    "plt.imshow(abs(rss_image), cmap='gray')\n",
    "plt.title('rss_image')"
   ]
  },
  {
   "cell_type": "code",
   "execution_count": null,
   "id": "909104cf",
   "metadata": {},
   "outputs": [],
   "source": []
  }
 ],
 "metadata": {
  "kernelspec": {
   "display_name": "Python 3 (ipykernel)",
   "language": "python",
   "name": "python3"
  }
 },
 "nbformat": 4,
 "nbformat_minor": 5
}
