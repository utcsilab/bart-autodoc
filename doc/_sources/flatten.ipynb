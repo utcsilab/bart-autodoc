{
 "cells": [
  {
   "cell_type": "markdown",
   "id": "3935c43c",
   "metadata": {},
   "source": [
    "# BART FLATTEN\n",
    "\n",
    "==============================================================================================================\n",
    "\n",
    "The `bart flatten` command is used to convert a multi-dimensional array into a **single dimension**, effectively collapsing all dimensions into a single vector.\n",
    "\n",
    "Where we can view the full usage string and optional arguments with the `-h` flag."
   ]
  },
  {
   "cell_type": "code",
   "execution_count": null,
   "id": "5564eb88",
   "metadata": {},
   "outputs": [],
   "source": [
    "!bart flatten -h"
   ]
  },
  {
   "cell_type": "markdown",
   "id": "b11f670f",
   "metadata": {},
   "source": [
    "**where:**\n",
    "\n",
    "`<input>`: The file containing the input data.\n",
    "\n",
    "`<output>`: The file where the result will be saved."
   ]
  },
  {
   "cell_type": "markdown",
   "id": "9f923ba6",
   "metadata": {},
   "source": [
    "## Example for Matrix (using Bash)"
   ]
  },
  {
   "cell_type": "markdown",
   "id": "1f0b1e02",
   "metadata": {},
   "source": [
    "### Create a Matrix Filled with the Value of 1, Dimension as 2 x 4 x 2"
   ]
  },
  {
   "cell_type": "code",
   "execution_count": null,
   "id": "3b724d4f",
   "metadata": {},
   "outputs": [],
   "source": [
    "!bart ones 3 2 4 2 matrix "
   ]
  },
  {
   "cell_type": "code",
   "execution_count": null,
   "id": "5110821a",
   "metadata": {},
   "outputs": [],
   "source": [
    "!bart show matrix # Display the matrix"
   ]
  },
  {
   "cell_type": "code",
   "execution_count": null,
   "id": "597d254e",
   "metadata": {},
   "outputs": [],
   "source": [
    "!bart show -m matrix # Display the dimension of the matrix"
   ]
  },
  {
   "cell_type": "markdown",
   "id": "a0983685",
   "metadata": {},
   "source": [
    "## Flatten this Matrix to a Single Dimension Array"
   ]
  },
  {
   "cell_type": "code",
   "execution_count": null,
   "id": "1915b0c6",
   "metadata": {},
   "outputs": [],
   "source": [
    "!bart flatten matrix flat_matrix # Flatten this Matrix to a Single Dimension Array named as \"flat_matrix\""
   ]
  },
  {
   "cell_type": "code",
   "execution_count": null,
   "id": "1b43afa1",
   "metadata": {},
   "outputs": [],
   "source": [
    "!bart show flat_matrix  # Display the array"
   ]
  },
  {
   "cell_type": "code",
   "execution_count": null,
   "id": "51c8e963",
   "metadata": {},
   "outputs": [],
   "source": [
    "!bart show -m flat_matrix # Display the dimension of the array"
   ]
  },
  {
   "cell_type": "markdown",
   "id": "dd6c9cdf",
   "metadata": {},
   "source": [
    "## Example for k-space MRI Data Images (in Python)\n",
    "\n",
    "The `bart flatten` command is used to convert a multi-dimensional array into a single dimension. This is particularly useful in image processing, data preparation for machine learning, or any scenario where a 1D representation of data is required."
   ]
  },
  {
   "cell_type": "code",
   "execution_count": null,
   "id": "d435e712",
   "metadata": {},
   "outputs": [],
   "source": [
    "# Importing the required libraries\n",
    "import numpy as np\n",
    "import matplotlib.pyplot as plt\n",
    "%matplotlib inline\n",
    "\n",
    "import cfl\n",
    "from bart import bart"
   ]
  },
  {
   "cell_type": "markdown",
   "id": "652a9453",
   "metadata": {},
   "source": [
    "### Generate a phantom image in k-space and print the dimension of it "
   ]
  },
  {
   "cell_type": "code",
   "execution_count": null,
   "id": "3e285c3b",
   "metadata": {},
   "outputs": [],
   "source": [
    "phantom = bart(1, 'phantom -x 128 -k') # Generate a phantom image in k-space with size 128x128  \n",
    "print(phantom.shape)"
   ]
  },
  {
   "cell_type": "markdown",
   "id": "3710780e",
   "metadata": {},
   "source": [
    "### Flatten the k-space data into a single dimension array"
   ]
  },
  {
   "cell_type": "code",
   "execution_count": null,
   "id": "a334e49f",
   "metadata": {},
   "outputs": [],
   "source": [
    "flat_phantom = bart(1, 'flatten', phantom)\n",
    "print(flat_phantom.shape)"
   ]
  },
  {
   "cell_type": "code",
   "execution_count": null,
   "id": "a8f51e74",
   "metadata": {},
   "outputs": [],
   "source": []
  }
 ],
 "metadata": {
  "kernelspec": {
   "display_name": "Python 3 (ipykernel)",
   "language": "python",
   "name": "python3"
  }
 },
 "nbformat": 4,
 "nbformat_minor": 5
}
