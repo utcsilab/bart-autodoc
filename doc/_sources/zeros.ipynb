{
 "cells": [
  {
   "cell_type": "markdown",
   "id": "fdd3ed03",
   "metadata": {},
   "source": [
    "# BART ZEROS\n",
    "\n",
    "=================================================================================================================\n",
    "\n",
    "The command `bart zeros` is used in BART to create an array **filled with zeros**. You specify the number of dimensions (dims) and the size of each dimension (dim1, dim2, ..., dimN). \n",
    "\n",
    "## Such as:\n",
    "\n",
    "$$ \n",
    "\\begin{pmatrix} \n",
    "0 & 0 & \\cdots & 0 \\\\ \n",
    "0 & 0 & \\cdots & 0 \\\\ \n",
    "\\vdots & \\vdots & \\ddots & \\vdots \\\\ \n",
    "0 & 0 & \\cdots & 0 \n",
    "\\end{pmatrix}\n",
    "$$\n",
    "\n",
    "\n",
    "We can use `-h` for every BART command."
   ]
  },
  {
   "cell_type": "code",
   "execution_count": null,
   "id": "5d703171",
   "metadata": {},
   "outputs": [],
   "source": [
    "!bart zeros -h"
   ]
  },
  {
   "cell_type": "markdown",
   "id": "2fedcfac",
   "metadata": {},
   "source": [
    "**where**:\n",
    "\n",
    "`dims`: The number of dimensions of the array.\n",
    "\n",
    "`dim1 dim2 ... dimN`: The size of each dimension.\n",
    "\n",
    "`<output>`: The output prefix for the file that will be created (<output>.cfl and <output>.hdr)."
   ]
  },
  {
   "cell_type": "markdown",
   "id": "495108ac",
   "metadata": {},
   "source": [
    "## Example 1(Using Bash)"
   ]
  },
  {
   "cell_type": "code",
   "execution_count": null,
   "id": "90bd5dbe",
   "metadata": {},
   "outputs": [],
   "source": [
    "!bart zeros 2 2 3 output_1"
   ]
  },
  {
   "cell_type": "markdown",
   "id": "d6e8ba8f",
   "metadata": {},
   "source": [
    "**This will create:**\n",
    "\n",
    "A 2D array with dimensions 2 x 3 filled with zeros.\n",
    "\n",
    "The output files will be output.cfl and output.hdr."
   ]
  },
  {
   "cell_type": "code",
   "execution_count": null,
   "id": "f5be1c32",
   "metadata": {},
   "outputs": [],
   "source": [
    "!bart show -m output_1"
   ]
  },
  {
   "cell_type": "code",
   "execution_count": null,
   "id": "23259791",
   "metadata": {},
   "outputs": [],
   "source": [
    "!bart show output_1 # Display information about a .cfl file (without the .cfl extension)"
   ]
  },
  {
   "cell_type": "markdown",
   "id": "039a8faf",
   "metadata": {},
   "source": [
    "## Example 2 (Using Bash)"
   ]
  },
  {
   "cell_type": "code",
   "execution_count": null,
   "id": "faabd0eb",
   "metadata": {},
   "outputs": [],
   "source": [
    "!bart zeros 3 5 5 6 output_2"
   ]
  },
  {
   "cell_type": "markdown",
   "id": "2b33acaa",
   "metadata": {},
   "source": [
    "**This will create:**\n",
    "\n",
    "A 3D array with dimensions 5 x 5 x 6 filled with zeros."
   ]
  },
  {
   "cell_type": "code",
   "execution_count": null,
   "id": "d0ebe797",
   "metadata": {},
   "outputs": [],
   "source": [
    "!bart show -m output_2"
   ]
  },
  {
   "cell_type": "code",
   "execution_count": null,
   "id": "0dab7710",
   "metadata": {},
   "outputs": [],
   "source": [
    "!bart show output_2 # Display information about a .cfl file (without the .cfl extension)"
   ]
  },
  {
   "cell_type": "code",
   "execution_count": null,
   "id": "d4970d6a",
   "metadata": {},
   "outputs": [],
   "source": []
  }
 ],
 "metadata": {
  "kernelspec": {
   "display_name": "Python 3 (ipykernel)",
   "language": "python",
   "name": "python3"
  }
 },
 "nbformat": 4,
 "nbformat_minor": 5
}
