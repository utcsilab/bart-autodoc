{
 "cells": [
  {
   "cell_type": "markdown",
   "id": "5dccaca9",
   "metadata": {},
   "source": [
    "# BART SQUEEZE\n",
    "\n",
    "==============================================================================================================\n",
    "\n",
    "The `bart squeeze` command in BART is used to remove singleton dimensions (dimensions with size 1) from arrays. This is often necessary in array processing and image reconstruction tasks where extra dimensions may appear due to data manipulation, but they do not contain any additional information.\n",
    "\n",
    "Where we can view the full usage string and optional arguments with the `-h` flag."
   ]
  },
  {
   "cell_type": "code",
   "execution_count": null,
   "id": "5bd91ffe",
   "metadata": {},
   "outputs": [],
   "source": [
    "!bart squeeze -h"
   ]
  },
  {
   "cell_type": "markdown",
   "id": "8ab8cac6",
   "metadata": {},
   "source": [
    "## Example for Matrix (using Bash)"
   ]
  },
  {
   "cell_type": "markdown",
   "id": "e0f0d8e1",
   "metadata": {},
   "source": [
    "### Create a Matrix Filled with the Value of 1, Dimension as 3 x 1 x 2"
   ]
  },
  {
   "cell_type": "code",
   "execution_count": null,
   "id": "52e7c36b",
   "metadata": {},
   "outputs": [],
   "source": [
    "!bart ones 3 3 1 2 matrix "
   ]
  },
  {
   "cell_type": "code",
   "execution_count": null,
   "id": "883446ad",
   "metadata": {},
   "outputs": [],
   "source": [
    "!bart show matrix"
   ]
  },
  {
   "cell_type": "code",
   "execution_count": null,
   "id": "3392d63b",
   "metadata": {},
   "outputs": [],
   "source": [
    "!bart show -m matrix"
   ]
  },
  {
   "cell_type": "markdown",
   "id": "2b4e27e1",
   "metadata": {},
   "source": [
    "**We can see the dimension for our matrix is 3 x 1 x 2**"
   ]
  },
  {
   "cell_type": "markdown",
   "id": "22041a75",
   "metadata": {},
   "source": [
    "### Remove singleton dimensions of the matrix that we created."
   ]
  },
  {
   "cell_type": "code",
   "execution_count": null,
   "id": "d3bf796e",
   "metadata": {},
   "outputs": [],
   "source": [
    "!bart squeeze matrix matrix_squeeze"
   ]
  },
  {
   "cell_type": "code",
   "execution_count": null,
   "id": "a75bf8e2",
   "metadata": {},
   "outputs": [],
   "source": [
    "!bart show -m matrix_squeeze"
   ]
  },
  {
   "cell_type": "markdown",
   "id": "dada389c",
   "metadata": {},
   "source": [
    "**We can see the dimension for our queeze_matrix became 3 x 2**"
   ]
  }
 ],
 "metadata": {
  "kernelspec": {
   "display_name": "Python 3 (ipykernel)",
   "language": "python",
   "name": "python3"
  }
 },
 "nbformat": 4,
 "nbformat_minor": 5
}
