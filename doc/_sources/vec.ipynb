{
 "cells": [
  {
   "cell_type": "markdown",
   "id": "ba340756",
   "metadata": {},
   "source": [
    "# `bart vec`\n",
    "\n",
    "==================================================================================================================\n",
    "\n",
    "The `bart vec` command in BART is used to create a vector of values from a list of inputs.\n",
    "\n",
    "Where we can view the full usage string and optional arguments with the `-h` flag."
   ]
  },
  {
   "cell_type": "code",
   "execution_count": null,
   "id": "92807f04",
   "metadata": {},
   "outputs": [],
   "source": [
    "!bart vec -h"
   ]
  },
  {
   "cell_type": "markdown",
   "id": "4df01c72",
   "metadata": {},
   "source": [
    "**where:**\n",
    "\n",
    "`val1 ... valN`: A list of numerical values that will be placed in the vector.\n",
    "\n",
    "`<output>`: The output file where the vector will be saved."
   ]
  },
  {
   "cell_type": "markdown",
   "id": "26f8e444",
   "metadata": {},
   "source": [
    "## Examples (Using Bash)"
   ]
  },
  {
   "cell_type": "markdown",
   "id": "0aa2f467",
   "metadata": {},
   "source": [
    "### Example 1\n",
    "\n",
    "#### Generate a vector with values from 1 to 8 "
   ]
  },
  {
   "cell_type": "code",
   "execution_count": null,
   "id": "55ee1a6b",
   "metadata": {},
   "outputs": [],
   "source": [
    "!bart vec $(seq 1 8) vector"
   ]
  },
  {
   "cell_type": "code",
   "execution_count": null,
   "id": "24e5605d",
   "metadata": {},
   "outputs": [],
   "source": [
    "!bart show vector #display the vector"
   ]
  },
  {
   "cell_type": "markdown",
   "id": "47c76e99",
   "metadata": {},
   "source": [
    "### Example 2\n",
    "\n",
    "#### Generate a vector with complex numbers "
   ]
  },
  {
   "cell_type": "code",
   "execution_count": null,
   "id": "2976656b",
   "metadata": {},
   "outputs": [],
   "source": [
    "!bart vec 1 2+2i 3 4i vector_1"
   ]
  },
  {
   "cell_type": "code",
   "execution_count": null,
   "id": "999df159",
   "metadata": {},
   "outputs": [],
   "source": [
    "!bart show vector_1"
   ]
  },
  {
   "cell_type": "code",
   "execution_count": null,
   "id": "fb616953",
   "metadata": {},
   "outputs": [],
   "source": []
  },
  {
   "cell_type": "code",
   "execution_count": null,
   "id": "63573ab9",
   "metadata": {},
   "outputs": [],
   "source": []
  }
 ],
 "metadata": {
  "kernelspec": {
   "display_name": "Python 3 (ipykernel)",
   "language": "python",
   "name": "python3"
  }
 },
 "nbformat": 4,
 "nbformat_minor": 5
}
