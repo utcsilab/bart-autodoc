{
 "cells": [
  {
   "cell_type": "markdown",
   "id": "bc6bc799",
   "metadata": {},
   "source": [
    "\n",
    "# BART PHANTOM\n",
    "\n",
    "===========================================================================================================\n",
    "\n",
    "The `bart phantom` command in BART is used to generate synthetic MRI phantoms in both image and k-space domains. \n",
    "\n",
    "Where we can view the full usage string and optional arguments with the `-h` flag.\n"
   ]
  },
  {
   "cell_type": "code",
   "execution_count": null,
   "id": "3e764c8c",
   "metadata": {},
   "outputs": [],
   "source": [
    "!bart phantom -h"
   ]
  },
  {
   "cell_type": "markdown",
   "id": "65b53e5b",
   "metadata": {},
   "source": [
    "## Examples (Using Python)"
   ]
  },
  {
   "cell_type": "markdown",
   "id": "dfcc486e",
   "metadata": {},
   "source": [
    "## Example 1: Generating a Phantom in Image Space \n",
    "### This example generates a phantom in image space."
   ]
  },
  {
   "cell_type": "code",
   "execution_count": null,
   "id": "008aff41",
   "metadata": {},
   "outputs": [],
   "source": [
    "# Importing the required libraries\n",
    "import numpy as np\n",
    "import matplotlib.pyplot as plt\n",
    "%matplotlib inline\n",
    "\n",
    "import cfl\n",
    "from bart import bart"
   ]
  },
  {
   "cell_type": "code",
   "execution_count": null,
   "id": "73c7d09c",
   "metadata": {},
   "outputs": [],
   "source": [
    "phantom_image = bart(1, 'phantom -x 128') # Generate a phantom image with size 128x128  "
   ]
  },
  {
   "cell_type": "code",
   "execution_count": null,
   "id": "fb55513d",
   "metadata": {},
   "outputs": [],
   "source": [
    "# Visualizing the image using Matplotlib\n",
    "plt.figure(figsize=(4,6))\n",
    "plt.imshow(abs(phantom_image), cmap='gray')\n",
    "plt.title('phantom_image')"
   ]
  },
  {
   "cell_type": "markdown",
   "id": "5ed52af3",
   "metadata": {},
   "source": [
    "## Example 2: Generating a Phantom in k-Space\n",
    "### This example generates a phantom in k-space by using `-k`."
   ]
  },
  {
   "cell_type": "code",
   "execution_count": null,
   "id": "acb1a786",
   "metadata": {},
   "outputs": [],
   "source": [
    "phantom_k = bart(1, 'phantom -x 128 -k') # Generate a phantom image in k-space with size 128x128  "
   ]
  },
  {
   "cell_type": "code",
   "execution_count": null,
   "id": "b12a1b71",
   "metadata": {},
   "outputs": [],
   "source": [
    "# Visualizing the image using Matplotlib\n",
    "plt.figure(figsize=(4,6))\n",
    "plt.imshow(abs(phantom_k)**.3, cmap='gray')\n",
    "plt.title('phantom_k')"
   ]
  },
  {
   "cell_type": "markdown",
   "id": "51521b06",
   "metadata": {},
   "source": [
    "## Example 3: Generate a multi-coil image using the `phantom` simulation tool in BART\n",
    "\n",
    "### Generate a multi-coil image with size 128x128 and 8 coils by using `-s`."
   ]
  },
  {
   "cell_type": "code",
   "execution_count": null,
   "id": "2ed458df",
   "metadata": {},
   "outputs": [],
   "source": [
    "multi_coil_image = bart(1, 'phantom -x 128 -s 8') # Generate a multi-coil image with size 128x128 and 8 coils "
   ]
  },
  {
   "cell_type": "code",
   "execution_count": null,
   "id": "b790e1c7",
   "metadata": {},
   "outputs": [],
   "source": [
    "# Visualizing the multi-coil images using Matplotlib \n",
    "plt.figure(figsize=(16,20))\n",
    "for i in range(8):\n",
    "    plt.subplot(1, 8, i+1)\n",
    "    plt.imshow(abs(multi_coil_image[...,i]), cmap='gray')\n",
    "    plt.title('Coil image {}'.format(i))"
   ]
  },
  {
   "cell_type": "markdown",
   "id": "754416b4",
   "metadata": {
    "lines_to_next_cell": 0
   },
   "source": [
    "### Output the sensitivity maps directly with `-S`."
   ]
  },
  {
   "cell_type": "code",
   "execution_count": null,
   "id": "f80b5596",
   "metadata": {},
   "outputs": [],
   "source": [
    "sens_maps = bart(1, 'phantom -x 128 -S 8') # Generate the maps corresponding to a multi-coil image with size 128x128 and 8 coils "
   ]
  },
  {
   "cell_type": "code",
   "execution_count": null,
   "id": "41e4e2ca",
   "metadata": {},
   "outputs": [],
   "source": [
    "# Visualizing the multi-coil images using Matplotlib \n",
    "plt.figure(figsize=(16,20))\n",
    "for i in range(8):\n",
    "    plt.subplot(1, 8, i+1)\n",
    "    plt.imshow(abs(sens_maps[...,i]), cmap='gray')\n",
    "    plt.title('Coil sensitivity map {}'.format(i))"
   ]
  },
  {
   "cell_type": "markdown",
   "id": "1b26ec7d",
   "metadata": {},
   "source": [
    "## Example 4: Generate a geometric object phantom using the `phantom` simulation tool in BART\n",
    "\n",
    "### Generate a geometric object phantom by using `-G`."
   ]
  },
  {
   "cell_type": "code",
   "execution_count": null,
   "id": "58ac40a8",
   "metadata": {},
   "outputs": [],
   "source": [
    "geometric_phantom = bart(1, 'phantom -x 128 -G') # Generate a phantom image with size 128x128  "
   ]
  },
  {
   "cell_type": "code",
   "execution_count": null,
   "id": "d331b63e",
   "metadata": {},
   "outputs": [],
   "source": [
    "# Visualizing the image using Matplotlib\n",
    "plt.figure(figsize=(4,6))\n",
    "plt.imshow(abs(geometric_phantom), cmap='gray')\n",
    "plt.title('geometric_phantom')"
   ]
  },
  {
   "cell_type": "markdown",
   "id": "906b5abe",
   "metadata": {},
   "source": [
    "We can substitude `-G` by `-T`, `--NIST`, `--SANAR`, `--BRAIN`...\n",
    "\n",
    "\n",
    "| Option                        | Description |\n",
    "|-------------------------------|-------------|\n",
    "| `-G`                          | Geometric object phantom |\n",
    "| `-T`                          | Tubes phantom |\n",
    "| `--NIST`                      | NIST T2 sphere phantom |\n",
    "| `--SONAR`                     | Diagnostic SONAR phantom |\n",
    "| `--BRAIN`                     | BRAIN geometry phantom |\n",
    "| `-N num`                      | Creates random tubes phantom with `num` tubes |\n",
    "| `-B`                          | Generates the BART logo |"
   ]
  },
  {
   "cell_type": "markdown",
   "id": "bd0cf8a3",
   "metadata": {},
   "source": [
    "These commands can also be used with `-s`, `-k`, etc.\n",
    "\n",
    "## Example 5: Creating an Ellipsoid Phantom\n",
    "\n",
    "To create an ellipsoid, use `--ELLIPSOID` with additional options for setting its center and axes.\n",
    "\n",
    "### Command Explanation\n",
    "- `--ELLIPSOID` : Specifies the ellipsoid geometry.\n",
    "- `--ellipsoid_center d:d:d` : Sets the x, y, z coordinates of the ellipsoid's center.\n",
    "- `--ellipsoid_axes f:f:f` : Defines the lengths of the ellipsoid's axes.\n",
    "\n",
    "Run the following command to generate an ellipsoid phantom."
   ]
  },
  {
   "cell_type": "markdown",
   "id": "0afff155",
   "metadata": {},
   "source": [
    "### Example 5.1: Generate a Ellipsoid Phantom by using `--ELLIPSOID`."
   ]
  },
  {
   "cell_type": "code",
   "execution_count": null,
   "id": "87609893",
   "metadata": {},
   "outputs": [],
   "source": [
    "ellipsoid_phantom = bart(1, 'phantom -x 32 --ELLIPSOID') # Generate a ellipsoid image with size 32x32  "
   ]
  },
  {
   "cell_type": "code",
   "execution_count": null,
   "id": "993277c5",
   "metadata": {},
   "outputs": [],
   "source": [
    "# Visualizing the image using Matplotlib\n",
    "plt.figure(figsize=(4,6))\n",
    "plt.imshow(abs(ellipsoid_phantom), cmap='gray')\n",
    "plt.title('ellipsoid')"
   ]
  },
  {
   "cell_type": "markdown",
   "id": "f2a19ad3",
   "metadata": {},
   "source": [
    "**(You may notice this appears as a square rather than an ellipsoid; this is because the default ellipsoid axes are set to 1:1:1.)**"
   ]
  },
  {
   "cell_type": "markdown",
   "id": "73ca1c9a",
   "metadata": {},
   "source": [
    "### Example 5.1: Generate a Ellipsoid Phantom with Option for Setting Its Center\n",
    "\n",
    "- `--ELLIPSOID` : Specifies the ellipsoid geometry.\n",
    "- `--ellipsoid_center d:d:d` : Sets the x, y, z coordinates of the ellipsoid's center."
   ]
  },
  {
   "cell_type": "code",
   "execution_count": null,
   "id": "c55a451c",
   "metadata": {},
   "outputs": [],
   "source": [
    "ellipsoid_phantom_1 = bart(1, 'phantom -x 32 --ELLIPSOID --ellipsoid_center 10:25:1')"
   ]
  },
  {
   "cell_type": "code",
   "execution_count": null,
   "id": "5e8ccb45",
   "metadata": {},
   "outputs": [],
   "source": [
    "# Visualizing the image using Matplotlib\n",
    "plt.figure(figsize=(4,6))\n",
    "plt.imshow(abs(ellipsoid_phantom_1), cmap='gray')\n",
    "plt.title('centered at 10:25 ellipsoid')"
   ]
  },
  {
   "cell_type": "markdown",
   "id": "0d99164d",
   "metadata": {},
   "source": [
    "### Example 5.2: Generate a Ellipsoid Phantom with Option for Setting Its lengths of the ellipsoid's axes.\n",
    "- `--ELLIPSOID` : Specifies the ellipsoid geometry.\n",
    "- `--ellipsoid_axes f:f:f` : Defines the lengths of the ellipsoid's axes."
   ]
  },
  {
   "cell_type": "code",
   "execution_count": null,
   "id": "528399dc",
   "metadata": {},
   "outputs": [],
   "source": [
    "ellipsoid_phantom_2 = bart(1, 'phantom -x 64 --ELLIPSOID --ellipsoid_axes 10:20:1') # The length for x is 10, for y is 20"
   ]
  },
  {
   "cell_type": "code",
   "execution_count": null,
   "id": "97e953ee",
   "metadata": {},
   "outputs": [],
   "source": [
    "# Visualizing the image using Matplotlib\n",
    "plt.figure(figsize=(4,6))\n",
    "plt.imshow(abs(ellipsoid_phantom_2), cmap='gray')\n",
    "plt.title('Ellipsoid')"
   ]
  },
  {
   "cell_type": "markdown",
   "id": "0b1ef911",
   "metadata": {},
   "source": [
    "### Example 5.3: Generate a Ellipsoid Phantom with Option for Setting Its Center and Axes.\n",
    "- `--ELLIPSOID` : Specifies the ellipsoid geometry.\n",
    "- `--ellipsoid_center d:d:d` : Sets the x, y, z coordinates of the ellipsoid's center.\n",
    "- `--ellipsoid_axes f:f:f` : Defines the lengths of the ellipsoid's axes."
   ]
  },
  {
   "cell_type": "code",
   "execution_count": null,
   "id": "83675649",
   "metadata": {},
   "outputs": [],
   "source": [
    "ellipsoid_phantom_3 = bart(1, 'phantom -x 64 --ELLIPSOID --ellipsoid_center 10:25:1, --ellipsoid_axes 10:20:1')"
   ]
  },
  {
   "cell_type": "code",
   "execution_count": null,
   "id": "0f1a69c3",
   "metadata": {},
   "outputs": [],
   "source": [
    "# Visualizing the image using Matplotlib\n",
    "plt.figure(figsize=(4,6))\n",
    "plt.imshow(abs(ellipsoid_phantom_3), cmap='gray')\n",
    "plt.title('Ellipsoid')"
   ]
  },
  {
   "cell_type": "markdown",
   "id": "5cfd7018",
   "metadata": {},
   "source": [
    "## Example 6: Generate a k-space phantom by a trajectory file using the `phantom` simulation tool in BART\n",
    "\n",
    "### Generates a radial k-space trajectory"
   ]
  },
  {
   "cell_type": "code",
   "execution_count": null,
   "id": "910362c3",
   "metadata": {},
   "outputs": [],
   "source": [
    "traj = bart(1, 'traj -r -x 128 -y 128')"
   ]
  },
  {
   "cell_type": "markdown",
   "id": "36a60e7f",
   "metadata": {},
   "source": [
    "### Creates a simulated k-space dataset for a phantom image by the trajectory that we created"
   ]
  },
  {
   "cell_type": "code",
   "execution_count": null,
   "id": "68ee8aaf",
   "metadata": {},
   "outputs": [],
   "source": [
    "traj_phantom_ksp = bart(1, 'phantom -k -t', traj)"
   ]
  },
  {
   "cell_type": "code",
   "execution_count": null,
   "id": "29624190",
   "metadata": {},
   "outputs": [],
   "source": [
    "# Visualizing the image using Matplotlib\n",
    "plt.figure(figsize=(4,6))\n",
    "plt.imshow(np.abs(traj_phantom_ksp.squeeze())**.3, cmap='gray')\n",
    "plt.title('non-Cartesian sampled phantom (in k-space)')"
   ]
  },
  {
   "cell_type": "code",
   "execution_count": null,
   "id": "541655f6",
   "metadata": {},
   "outputs": [],
   "source": [
    "# Visualizing the inverse NUFFT using Matplotlib\n",
    "traj_phantom_img = bart(1, 'nufft -i', traj, traj_phantom_ksp)\n",
    "plt.figure(figsize=(4,6))\n",
    "plt.imshow(np.abs(traj_phantom_img), cmap='gray')\n",
    "plt.title('Phantom (image domain)')"
   ]
  },
  {
   "cell_type": "markdown",
   "id": "1893d0f4",
   "metadata": {},
   "source": [
    "## Example 7: Generate Tube phantom image by basis functions of geometry using the `phantom` simulation tool in BART"
   ]
  },
  {
   "cell_type": "code",
   "execution_count": null,
   "id": "d5137909",
   "metadata": {},
   "outputs": [],
   "source": [
    "# Generates a 128 × 128 phantom image of cylindrical tubes using basis functions for geometry representation\n",
    "phantom_bf = bart(1, 'phantom -x 128 -b -T').squeeze() "
   ]
  },
  {
   "cell_type": "code",
   "execution_count": null,
   "id": "00bd2d0c",
   "metadata": {},
   "outputs": [],
   "source": [
    "# Visualizing the the images using Matplotlib \n",
    "plt.figure(figsize=(16,25))\n",
    "for i in range(11):\n",
    "    plt.subplot(1, 11, i+1)\n",
    "    plt.imshow(abs(phantom_bf[...,i]), cmap='gray')\n",
    "    plt.title('phan_bf {}'.format(i))"
   ]
  },
  {
   "cell_type": "markdown",
   "id": "929a0289",
   "metadata": {},
   "source": [
    "## Example 8: Generate a 3D phantom using the `phantom` simulation tool in BART\n",
    "\n",
    "### Generate a 3D phantom with an ellipsoid geometry by option \n",
    "- `-3`: 3D\n",
    "- `--ELLIPSOID` : Specifies the ellipsoid geometry.\n",
    "- `--ellipsoid_axes f:f:f` : Defines the lengths of the ellipsoid's axes."
   ]
  },
  {
   "cell_type": "code",
   "execution_count": null,
   "id": "0b922f93",
   "metadata": {},
   "outputs": [],
   "source": [
    "# Generate a 3D phantom of size 32 × 32 × 32 with an ellipsoid geometry, specifying the ellipsoid's axes lengths as 10 × 20 × 10\n",
    "phantom_3d = bart(1, 'phantom -x 32 -3 --ELLIPSOID --ellipsoid_axes 20:25:10') "
   ]
  },
  {
   "cell_type": "code",
   "execution_count": null,
   "id": "78365739",
   "metadata": {},
   "outputs": [],
   "source": [
    "# Visualizing the the images using Matplotlib \n",
    "from mpl_toolkits.mplot3d import Axes3D  # Import the 3D plotting functionality from the matplotlib library.\n",
    "\n",
    "# Define a grid of x, y, z coordinates\n",
    "x, y, z = np.meshgrid(np.arange(phantom_3d.shape[0]),\n",
    "                      np.arange(phantom_3d.shape[1]),\n",
    "                      np.arange(phantom_3d.shape[2]))\n",
    "\n",
    "# Use the magnitude of the complex data\n",
    "magnitude = np.abs(phantom_3d)\n",
    "\n",
    "# Plot the 3D image as scatter points\n",
    "fig = plt.figure(figsize=(7, 7))\n",
    "ax = fig.add_subplot(111, projection='3d')\n",
    "scat = ax.scatter(x, y, z, c=magnitude.flatten(), cmap='gray', marker='o', alpha=0.1)\n",
    "\n",
    "ax.set_title(\"3D Image Ellipsoid\")\n",
    "plt.show()"
   ]
  },
  {
   "cell_type": "markdown",
   "id": "09d6070d",
   "metadata": {},
   "source": [
    "## Example 9: Generate a rotation phantom using the `phantom` simulation tool in BART\n",
    "\n",
    "### Generate a rotated ellipsoid phantom by option \n",
    "- `--ELLIPSOID` : Specifies the ellipsoid geometry.\n",
    "- `--ellipsoid_axes f:f:f` : Defines the lengths of the ellipsoid's axes.\n",
    "- `-rotation-angle [deg]`: [deg] defines angle of rotation"
   ]
  },
  {
   "cell_type": "code",
   "execution_count": null,
   "id": "1e8e9f22",
   "metadata": {},
   "outputs": [],
   "source": [
    "# Generates a ellipsoid phantom of size 64 × 64 × 64 with axes 30 x 15, and rotated by 45 degrees.\n",
    "phantom_rotation = bart(1, 'phantom -x 64 --ELLIPSOID --ellipsoid_axes 30:15:1 --rotation-angle 45')"
   ]
  },
  {
   "cell_type": "code",
   "execution_count": null,
   "id": "db50da8d",
   "metadata": {},
   "outputs": [],
   "source": [
    "# Visualizing the image using Matplotlib\n",
    "plt.figure(figsize=(4,6))\n",
    "plt.imshow(abs(phantom_rotation), cmap='gray')\n",
    "plt.title('45 Degree Rotation ')"
   ]
  },
  {
   "cell_type": "markdown",
   "id": "a3753b03",
   "metadata": {},
   "source": [
    "## Example 10: Generate a 2D head coil configuration supporting up to 8 channels phantom using the `phantom` simulation tool in BART"
   ]
  },
  {
   "cell_type": "code",
   "execution_count": null,
   "id": "0144be2b",
   "metadata": {},
   "outputs": [],
   "source": [
    "phantom_coil = bart(1, 'phantom --coil HEAD_2D_8CH') "
   ]
  },
  {
   "cell_type": "code",
   "execution_count": null,
   "id": "493cb1cc",
   "metadata": {},
   "outputs": [],
   "source": [
    "# Visualizing the image using Matplotlib\n",
    "plt.figure(figsize=(4,6))\n",
    "plt.imshow(abs(phantom_coil), cmap='gray')\n",
    "plt.title('Coil HEAD_2D_8CH')"
   ]
  },
  {
   "cell_type": "markdown",
   "id": "6e049331",
   "metadata": {},
   "source": [
    "## Example 11: Generate a rotation tube phantom using the `phantom` simulation tool in BART\n",
    "\n",
    "### Generate a rotated tube phantom with rotation steps by option  \n",
    "- `-rotation-angle [deg]`: [deg] defines angle of rotation\n",
    "- `--rotation-steps`: n -- Number of rotation steps\n",
    "- `-T`: Tubes phantom"
   ]
  },
  {
   "cell_type": "code",
   "execution_count": null,
   "id": "490a6d95",
   "metadata": {},
   "outputs": [],
   "source": [
    "phantom_rs = bart(1, 'phantom -x 128 -T --rotation-angle 30 --rotation-steps 5').squeeze()"
   ]
  },
  {
   "cell_type": "code",
   "execution_count": null,
   "id": "47a06001",
   "metadata": {},
   "outputs": [],
   "source": [
    "# Visualizing the multi-coil images using Matplotlib \n",
    "plt.figure(figsize=(16,20))\n",
    "for i in range(5):\n",
    "    plt.subplot(1, 5, i+1)\n",
    "    plt.imshow(abs(phantom_rs[...,i]), cmap='gray')\n",
    "    plt.title('Rotation Step {}'.format(i))"
   ]
  }
 ],
 "metadata": {
  "kernelspec": {
   "display_name": "Python 3 (ipykernel)",
   "language": "python",
   "name": "python3"
  }
 },
 "nbformat": 4,
 "nbformat_minor": 5
}
