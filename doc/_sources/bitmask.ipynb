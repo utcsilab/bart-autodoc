{
 "cells": [
  {
   "cell_type": "markdown",
   "id": "d31c79e9",
   "metadata": {},
   "source": [
    "# BART BITMASK\n",
    "\n",
    "=================================================================================================================\n",
    "\n",
    "The `bart bitmask` command is a utility for creating and manipulating **bitmasks**. BART uses bitmasks to indicate which dimensions of a multi-dimensional array an operation should be applied to. Each bit in the bitmask corresponds to a dimension in the array.\n",
    "\n",
    "Bitmasks are frequently used in MRI to select specific dimensions or channels, enabling flexible data selection and manipulation.\n",
    "\n",
    "Where we can view the full usage string and optional arguments with the `-h` flag."
   ]
  },
  {
   "cell_type": "markdown",
   "id": "78d4d8d2",
   "metadata": {},
   "source": [
    "# How `bart bitmask` Works\n",
    "\n",
    "### 1. Bit Representation\n",
    "Each position in a binary number (bit) corresponds to a power of 2, representing a specific dimension or feature. For instance, dimension \\( d \\) corresponds to \\( 2^d \\). Examples:\n",
    "\n",
    "- Dimension 0 corresponds to \\( 2^0 = 1 \\): `0001`\n",
    "- Dimension 1 corresponds to \\( 2^1 = 2 \\): `0010`\n",
    "- Dimension 2 corresponds to \\( 2^2 = 4 \\): `0100`\n",
    "- Dimension 3 corresponds to \\( 2^3 = 8 \\): `1000`\n",
    "\n",
    "### 2. Creating a Bitmask\n",
    "To create a bitmask representing multiple dimensions, use **bitmask** to combine the individual bits. For example, to select dimensions 1 and 3:\n",
    "\n",
    "$${Bitmask} = 2^1 + 2^3 = 2 + 8 = 10$$\n"
   ]
  },
  {
   "cell_type": "code",
   "execution_count": null,
   "id": "766976e7",
   "metadata": {},
   "outputs": [],
   "source": [
    "!bart bitmask -h"
   ]
  },
  {
   "cell_type": "markdown",
   "id": "42915acf",
   "metadata": {},
   "source": [
    "### Example 1: Creating a Bitmask for a Single Dimension (using Bash)\n",
    "\n",
    "This example generates a bitmask for dimension 3:"
   ]
  },
  {
   "cell_type": "code",
   "execution_count": null,
   "id": "2f075b1c",
   "metadata": {},
   "outputs": [],
   "source": [
    "!bart bitmask 3  # Outputs a bitmask with only the bit for dimension 3 set"
   ]
  },
  {
   "cell_type": "markdown",
   "id": "7560dd95",
   "metadata": {},
   "source": [
    "### Example 2: Creating a Bitmask for Multiple Dimensions (using Bash)\n",
    "\n",
    "A bitmask can represent multiple dimensions by setting bits for each dimension. "
   ]
  },
  {
   "cell_type": "code",
   "execution_count": null,
   "id": "37838fe0",
   "metadata": {},
   "outputs": [],
   "source": [
    "!bart bitmask 1 4  # Outputs a bitmask with bits set for dimensions 1 and 4"
   ]
  },
  {
   "cell_type": "markdown",
   "id": "1c2f2843",
   "metadata": {},
   "source": [
    "---\n",
    "\n",
    "### Example 3: Convert Dimensions from a Bitmask (using Bash)\n",
    "\n",
    "Use the `bart bitmask` command with the `-b` flag\n"
   ]
  },
  {
   "cell_type": "code",
   "execution_count": null,
   "id": "b9fe4fbf",
   "metadata": {},
   "outputs": [],
   "source": [
    "!bart bitmask -b 18 # Outputs demensions with a bitmask '18'"
   ]
  },
  {
   "cell_type": "markdown",
   "id": "4bcbd295",
   "metadata": {},
   "source": [
    "### Example 4: Using the output of bitmask directly with another tool\n",
    "It is often useful to pass the output of the bitmask tool directly to another tool in bash. This can be done for example,\n",
    "to pass the dimensions for FFT without precomputing the corresponding bitmask:"
   ]
  },
  {
   "cell_type": "code",
   "execution_count": null,
   "id": "bf65e16b",
   "metadata": {},
   "outputs": [],
   "source": [
    "!bart phantom -x 128 -k ksp # create a phantom in kspace\n",
    "!bart show -m ksp\n",
    "!bart fft -iu $(bart bitmask 0 1) ksp img # perform IFFT along dimensions 0 and 1"
   ]
  },
  {
   "cell_type": "code",
   "execution_count": null,
   "id": "d38859e8",
   "metadata": {},
   "outputs": [],
   "source": [
    "import numpy as np\n",
    "import matplotlib.pyplot as plt\n",
    "import cfl\n",
    "%matplotlib inline\n",
    "\n",
    "ksp = cfl.readcfl('ksp')\n",
    "img = cfl.readcfl('img')\n",
    "\n",
    "plt.figure(figsize=(4,6))\n",
    "plt.imshow(abs(ksp)**.3, cmap='gray')\n",
    "plt.title('phantom (in k-space)')\n",
    "\n",
    "plt.figure(figsize=(4,6))\n",
    "plt.imshow(abs(img), cmap='gray')\n",
    "plt.title('phantom (in image domain')"
   ]
  }
 ],
 "metadata": {
  "kernelspec": {
   "display_name": "Python 3 (ipykernel)",
   "language": "python",
   "name": "python3"
  }
 },
 "nbformat": 4,
 "nbformat_minor": 5
}
