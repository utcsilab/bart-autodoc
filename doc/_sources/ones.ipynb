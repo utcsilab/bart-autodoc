{
 "cells": [
  {
   "cell_type": "markdown",
   "id": "da32ffd9",
   "metadata": {},
   "source": [
    "# BART ONES\n",
    "\n",
    "=================================================================================================================\n",
    "\n",
    "The command `bart ones` is used in BART to create an array **filled with ones**. You specify the number of dimensions (dims) and the size of each dimension (dim1, dim2, ..., dimN). \n",
    "\n",
    "## Such as:\n",
    "\n",
    "\n",
    "$$ \n",
    "\\begin{pmatrix} \n",
    "1 & 1 & \\cdots & 1 \\\\ \n",
    "1 & 1 & \\cdots & 1 \\\\ \n",
    "\\vdots & \\vdots & \\ddots & \\vdots \\\\ \n",
    "1 & 1 & \\cdots & 1 \n",
    "\\end{pmatrix}\n",
    "$$\n",
    "\n",
    "\n",
    "We can use `-h` for every BART command."
   ]
  },
  {
   "cell_type": "code",
   "execution_count": null,
   "id": "2c45c869",
   "metadata": {},
   "outputs": [],
   "source": [
    "!bart ones -h"
   ]
  },
  {
   "cell_type": "markdown",
   "id": "2ea75478",
   "metadata": {},
   "source": [
    "**where**:\n",
    "\n",
    "`dims`: The number of dimensions of the array.\n",
    "\n",
    "`dim1 dim2 ... dimN`: The size of each dimension.\n",
    "\n",
    "`<output>`: The output prefix for the file that will be created (<output>.cfl and <output>.hdr)."
   ]
  },
  {
   "cell_type": "markdown",
   "id": "d2e56869",
   "metadata": {},
   "source": [
    "## Example 1(Using Bash)"
   ]
  },
  {
   "cell_type": "code",
   "execution_count": null,
   "id": "70d80a0f",
   "metadata": {},
   "outputs": [],
   "source": [
    "!bart ones 2 2 3 output_1"
   ]
  },
  {
   "cell_type": "markdown",
   "id": "caf010c5",
   "metadata": {},
   "source": [
    "**This will create:**\n",
    "\n",
    "A 2D array with dimensions 2 x 3 filled with ones.\n",
    "\n",
    "The output files will be output.cfl and output.hdr."
   ]
  },
  {
   "cell_type": "code",
   "execution_count": null,
   "id": "c8dcef06",
   "metadata": {},
   "outputs": [],
   "source": [
    "!bart show -m output_1"
   ]
  },
  {
   "cell_type": "code",
   "execution_count": null,
   "id": "a9d26341",
   "metadata": {},
   "outputs": [],
   "source": [
    "!bart show output_1 # Display information about a .cfl file (without the .cfl extension)"
   ]
  },
  {
   "cell_type": "markdown",
   "id": "539f8ef4",
   "metadata": {},
   "source": [
    "## Example 2 (Using Bash)"
   ]
  },
  {
   "cell_type": "code",
   "execution_count": null,
   "id": "fe9b2736",
   "metadata": {},
   "outputs": [],
   "source": [
    "!bart ones 3 5 5 6 output_2"
   ]
  },
  {
   "cell_type": "markdown",
   "id": "ba86b6cc",
   "metadata": {},
   "source": [
    "**This will create:**\n",
    "\n",
    "A 3D array with dimensions 5 x 5 x 6 filled with ones."
   ]
  },
  {
   "cell_type": "code",
   "execution_count": null,
   "id": "9d78797f",
   "metadata": {},
   "outputs": [],
   "source": [
    "!bart show -m output_2"
   ]
  },
  {
   "cell_type": "code",
   "execution_count": null,
   "id": "6070f208",
   "metadata": {},
   "outputs": [],
   "source": [
    "!bart show output_2 # Display information about a .cfl file (without the .cfl extension)"
   ]
  },
  {
   "cell_type": "code",
   "execution_count": null,
   "id": "bbf5bfd0",
   "metadata": {},
   "outputs": [],
   "source": []
  }
 ],
 "metadata": {
  "kernelspec": {
   "display_name": "Python 3 (ipykernel)",
   "language": "python",
   "name": "python3"
  }
 },
 "nbformat": 4,
 "nbformat_minor": 5
}
