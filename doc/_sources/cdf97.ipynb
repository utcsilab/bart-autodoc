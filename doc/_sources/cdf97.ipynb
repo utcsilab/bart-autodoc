{
 "cells": [
  {
   "cell_type": "markdown",
   "id": "5593ec3d",
   "metadata": {},
   "source": [
    "# BART CDF97\n",
    "\n",
    "==================================================================================================================\n",
    "\n",
    "The `bart cdf97` command performs a wavelet (CDF 9/7) transform using the BART.The Cohen-Daubechies-Feauveau 9/7 (CDF97) wavelet transform is a widely used tool in image and signal processing. The `cdf97` command facilitates the application of this transform to multi-dimensional data.\n",
    "\n",
    "Where we can view the full usage string and optional arguments with the `-h` flag."
   ]
  },
  {
   "cell_type": "code",
   "execution_count": null,
   "id": "963bfeba",
   "metadata": {},
   "outputs": [],
   "source": [
    "!bart cdf97 -h"
   ]
  },
  {
   "cell_type": "markdown",
   "id": "45952e86",
   "metadata": {},
   "source": [
    "**Where**:\n",
    "\n",
    "- `-i`: Optional flag to perform the inverse wavelet transform.\n",
    "  \n",
    "- `bitmask`: Specifies the dimensions along which the transform is applied.\n",
    "\n",
    "- `<input>`: Input file containing the data to be transformed.\n",
    "\n",
    "- `<output>`: Output file to store the transformed data.\n"
   ]
  },
  {
   "cell_type": "markdown",
   "id": "c19c195c",
   "metadata": {},
   "source": [
    "## Examples (Using Python)"
   ]
  },
  {
   "cell_type": "markdown",
   "id": "1aeab128",
   "metadata": {},
   "source": [
    "## Example 1: Apply the CDF 9/7 wavelet transform"
   ]
  },
  {
   "cell_type": "code",
   "execution_count": null,
   "id": "5fc242bd",
   "metadata": {},
   "outputs": [],
   "source": [
    "# Importing the required libraries\n",
    "import numpy as np\n",
    "import matplotlib.pyplot as plt\n",
    "%matplotlib inline\n",
    "\n",
    "import cfl\n",
    "from bart import bart"
   ]
  },
  {
   "cell_type": "code",
   "execution_count": null,
   "id": "cd5701a4",
   "metadata": {},
   "outputs": [],
   "source": [
    "phantom_image = bart(1, 'phantom -x 128') # Generate a phantom image with size 128x128 "
   ]
  },
  {
   "cell_type": "markdown",
   "id": "ebd0347a",
   "metadata": {},
   "source": [
    "### Applies the CDF 9/7 wavelet transform to the given phantom_image, specifically along the first two dimensions (based on the bitmask 3)."
   ]
  },
  {
   "cell_type": "code",
   "execution_count": null,
   "id": "54de397b",
   "metadata": {},
   "outputs": [],
   "source": [
    "wavelet = bart(1, 'cdf97 3', phantom_image)"
   ]
  },
  {
   "cell_type": "code",
   "execution_count": null,
   "id": "d9b3efe0",
   "metadata": {},
   "outputs": [],
   "source": [
    "# Visualizing the image using Matplotlib\n",
    "plt.figure(figsize=(4,6))\n",
    "plt.imshow(abs(wavelet)**.3, cmap='gray')\n",
    "plt.title('Wavelet')"
   ]
  },
  {
   "cell_type": "markdown",
   "id": "92ff89e5",
   "metadata": {},
   "source": [
    "## Example 2: Apply the CDF 9/7 inverse wavelet transform"
   ]
  },
  {
   "cell_type": "code",
   "execution_count": null,
   "id": "24532545",
   "metadata": {},
   "outputs": [],
   "source": [
    "# Performs the inverse CDF 9/7 wavelet transform on the given wavelet data, reconstructing the original data \n",
    "phantom = bart(1, 'cdf97 3 -i', wavelet)"
   ]
  },
  {
   "cell_type": "code",
   "execution_count": null,
   "id": "f109e39f",
   "metadata": {},
   "outputs": [],
   "source": [
    "# Visualizing the image using Matplotlib\n",
    "plt.figure(figsize=(4,6))\n",
    "plt.imshow(abs(phantom), cmap='gray')\n",
    "plt.title('Phantom')"
   ]
  },
  {
   "cell_type": "code",
   "execution_count": null,
   "id": "dae91090",
   "metadata": {},
   "outputs": [],
   "source": []
  }
 ],
 "metadata": {
  "kernelspec": {
   "display_name": "Python 3 (ipykernel)",
   "language": "python",
   "name": "python3"
  }
 },
 "nbformat": 4,
 "nbformat_minor": 5
}
