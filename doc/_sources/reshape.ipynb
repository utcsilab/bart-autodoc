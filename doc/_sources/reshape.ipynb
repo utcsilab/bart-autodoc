{
 "cells": [
  {
   "cell_type": "markdown",
   "id": "bf1fb81b",
   "metadata": {},
   "source": [
    "# BART RESHAPE\n",
    "\n",
    "===============================================================================================================\n",
    "\n",
    "The `bart reshape` command is used in BART to reshape **multi-dimensional arrays** by changing the shape of the input data according to specified dimensions. It allows you to change the size of one or more dimensions of the data without changing the total number of elements.\n",
    "\n",
    "Where we can view the full usage string and optional arguments with the `-h` flag."
   ]
  },
  {
   "cell_type": "code",
   "execution_count": null,
   "id": "13981727",
   "metadata": {},
   "outputs": [],
   "source": [
    "!bart reshape -h"
   ]
  },
  {
   "cell_type": "markdown",
   "id": "22111c18",
   "metadata": {},
   "source": [
    "**where:**\n",
    "\n",
    "`flags`: A bitmask specifying which dimensions you want to reshape.\n",
    "\n",
    "`dim1 dim2 ... dimN`: The size of each dimension.\n",
    "\n",
    "`<input>`: The input file in BART’s `.cfl` format that you want to reshape.\n",
    "\n",
    "`<output>`: The output file where the reshaped data will be saved."
   ]
  },
  {
   "cell_type": "markdown",
   "id": "2fdc8679",
   "metadata": {},
   "source": [
    "## Example for Matrix (Using Bash)"
   ]
  },
  {
   "cell_type": "markdown",
   "id": "986100a2",
   "metadata": {},
   "source": [
    "## Example 1.1\n",
    "\n",
    "### Generate a array with values from 1 to 8 "
   ]
  },
  {
   "cell_type": "code",
   "execution_count": null,
   "id": "17a51577",
   "metadata": {},
   "outputs": [],
   "source": [
    "!bart vec $(seq 1 8) array "
   ]
  },
  {
   "cell_type": "code",
   "execution_count": null,
   "id": "926ac00a",
   "metadata": {},
   "outputs": [],
   "source": [
    "!bart show array"
   ]
  },
  {
   "cell_type": "markdown",
   "id": "91f71121",
   "metadata": {},
   "source": [
    "### Reshape the array to Dimension as 2 x 2 x 2"
   ]
  },
  {
   "cell_type": "code",
   "execution_count": null,
   "id": "2e46253e",
   "metadata": {},
   "outputs": [],
   "source": [
    "!bart reshape $(bart bitmask 0 1 2) 2 2 2 array matrix_array "
   ]
  },
  {
   "cell_type": "code",
   "execution_count": null,
   "id": "e3d3a075",
   "metadata": {},
   "outputs": [],
   "source": [
    "!bart show matrix_array"
   ]
  },
  {
   "cell_type": "markdown",
   "id": "6c7856de",
   "metadata": {},
   "source": [
    "**We can see the dimension for our new matrix (matrix_array) become 2 x 2 x 2**"
   ]
  },
  {
   "cell_type": "code",
   "execution_count": null,
   "id": "26e11828",
   "metadata": {},
   "outputs": [],
   "source": [
    "!bart show -m matrix_array"
   ]
  },
  {
   "cell_type": "markdown",
   "id": "6c612cf5",
   "metadata": {},
   "source": [
    "## Example 1.2\n",
    "\n",
    "## Reshape the array to Demension 4 x 2"
   ]
  },
  {
   "cell_type": "code",
   "execution_count": null,
   "id": "7bd5799f",
   "metadata": {},
   "outputs": [],
   "source": [
    "!bart reshape $(bart bitmask 0 1) 4 2 array matrix_array_1 "
   ]
  },
  {
   "cell_type": "code",
   "execution_count": null,
   "id": "48a3132b",
   "metadata": {},
   "outputs": [],
   "source": [
    "!bart show matrix_array_1"
   ]
  },
  {
   "cell_type": "markdown",
   "id": "4f3f00c5",
   "metadata": {},
   "source": [
    "**We can see the dimension for our new matrix (matrix_array_1) become 4 x 2**"
   ]
  },
  {
   "cell_type": "code",
   "execution_count": null,
   "id": "585bd655",
   "metadata": {},
   "outputs": [],
   "source": [
    "!bart show -m matrix_array_1"
   ]
  },
  {
   "cell_type": "markdown",
   "id": "d1b1b518",
   "metadata": {},
   "source": [
    "## Example for Images (in Python Kernel)\n",
    "\n",
    "Use BART's `reshape` command to change the dimensions of the image matrix. "
   ]
  },
  {
   "cell_type": "code",
   "execution_count": null,
   "id": "1da1ea97",
   "metadata": {},
   "outputs": [],
   "source": [
    "# Importing the required libraries\n",
    "import numpy as np\n",
    "import matplotlib.pyplot as plt\n",
    "%matplotlib inline\n",
    "\n",
    "import cfl\n",
    "from bart import bart"
   ]
  },
  {
   "cell_type": "markdown",
   "id": "a92ed000",
   "metadata": {},
   "source": [
    "### 1. Generate a multi-coil image using the `phantom` simulation tool in BART:\n",
    "\n",
    "Generate a multi-coil image with size 128x128 and 8 coils.\n",
    "\n",
    "Note the convention is that the coil dimension is dimension 3"
   ]
  },
  {
   "cell_type": "code",
   "execution_count": null,
   "id": "6194c51e",
   "metadata": {},
   "outputs": [],
   "source": [
    "multi_coil_image = bart(1, 'phantom -x 128 -s 8')\n",
    "print(multi_coil_image.shape)"
   ]
  },
  {
   "cell_type": "markdown",
   "id": "03794fbb",
   "metadata": {},
   "source": [
    "**The number of coils is located in dimension '3'.**\n",
    "\n",
    "We are trying to reshape Dimension '1' & Dimension '3' and the corresponding `bitmask` for dimension '1' and '3' is calculated to be \"10\"."
   ]
  },
  {
   "cell_type": "code",
   "execution_count": null,
   "id": "44c95060",
   "metadata": {},
   "outputs": [],
   "source": [
    "!bart bitmask 1 3 "
   ]
  },
  {
   "cell_type": "markdown",
   "id": "08313548",
   "metadata": {},
   "source": [
    "### 2. Reshape multi-coil images to a flat image using the `reshape` tool in BART:\n",
    "\n",
    "Reshape the Dimension '1' from '128' to '128 x 8 = 1024'\n",
    "\n",
    "Reshape the Dimension '3' from '8' to '1'"
   ]
  },
  {
   "cell_type": "code",
   "execution_count": null,
   "id": "55a0a974",
   "metadata": {},
   "outputs": [],
   "source": [
    "image_flat = bart(1, 'reshape 10 1024 1', multi_coil_image)"
   ]
  },
  {
   "cell_type": "code",
   "execution_count": null,
   "id": "20608e45",
   "metadata": {},
   "outputs": [],
   "source": [
    "# Visualizing image_flat using Matplotlib\n",
    "plt.figure(figsize=(15,20))\n",
    "plt.imshow(abs(image_flat), cmap='gray')\n",
    "plt.title('Multi Coils Flat Image')"
   ]
  },
  {
   "cell_type": "code",
   "execution_count": null,
   "id": "1a03fca8",
   "metadata": {},
   "outputs": [],
   "source": []
  }
 ],
 "metadata": {
  "kernelspec": {
   "display_name": "Python 3 (ipykernel)",
   "language": "python",
   "name": "python3"
  }
 },
 "nbformat": 4,
 "nbformat_minor": 5
}
